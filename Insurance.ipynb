{
 "cells": [
  {
   "cell_type": "code",
   "execution_count": 1,
   "metadata": {},
   "outputs": [],
   "source": [
    "import pandas as pd \n",
    "insurance_data = pd.read_csv('insurance.csv');"
   ]
  },
  {
   "cell_type": "code",
   "execution_count": 2,
   "metadata": {},
   "outputs": [
    {
     "data": {
      "text/html": [
       "<div>\n",
       "<style scoped>\n",
       "    .dataframe tbody tr th:only-of-type {\n",
       "        vertical-align: middle;\n",
       "    }\n",
       "\n",
       "    .dataframe tbody tr th {\n",
       "        vertical-align: top;\n",
       "    }\n",
       "\n",
       "    .dataframe thead th {\n",
       "        text-align: right;\n",
       "    }\n",
       "</style>\n",
       "<table border=\"1\" class=\"dataframe\">\n",
       "  <thead>\n",
       "    <tr style=\"text-align: right;\">\n",
       "      <th></th>\n",
       "      <th>age</th>\n",
       "      <th>sex</th>\n",
       "      <th>bmi</th>\n",
       "      <th>children</th>\n",
       "      <th>smoker</th>\n",
       "      <th>region</th>\n",
       "      <th>charges</th>\n",
       "    </tr>\n",
       "  </thead>\n",
       "  <tbody>\n",
       "    <tr>\n",
       "      <th>0</th>\n",
       "      <td>19</td>\n",
       "      <td>female</td>\n",
       "      <td>27.900</td>\n",
       "      <td>0</td>\n",
       "      <td>yes</td>\n",
       "      <td>middle</td>\n",
       "      <td>16884.92400</td>\n",
       "    </tr>\n",
       "    <tr>\n",
       "      <th>1</th>\n",
       "      <td>18</td>\n",
       "      <td>male</td>\n",
       "      <td>33.770</td>\n",
       "      <td>1</td>\n",
       "      <td>no</td>\n",
       "      <td>south</td>\n",
       "      <td>1725.55230</td>\n",
       "    </tr>\n",
       "    <tr>\n",
       "      <th>2</th>\n",
       "      <td>28</td>\n",
       "      <td>male</td>\n",
       "      <td>33.000</td>\n",
       "      <td>3</td>\n",
       "      <td>no</td>\n",
       "      <td>south</td>\n",
       "      <td>4449.46200</td>\n",
       "    </tr>\n",
       "    <tr>\n",
       "      <th>3</th>\n",
       "      <td>33</td>\n",
       "      <td>male</td>\n",
       "      <td>22.705</td>\n",
       "      <td>0</td>\n",
       "      <td>no</td>\n",
       "      <td>north</td>\n",
       "      <td>21984.47061</td>\n",
       "    </tr>\n",
       "    <tr>\n",
       "      <th>4</th>\n",
       "      <td>32</td>\n",
       "      <td>male</td>\n",
       "      <td>28.880</td>\n",
       "      <td>0</td>\n",
       "      <td>no</td>\n",
       "      <td>north</td>\n",
       "      <td>3866.85520</td>\n",
       "    </tr>\n",
       "  </tbody>\n",
       "</table>\n",
       "</div>"
      ],
      "text/plain": [
       "   age     sex     bmi  children smoker  region      charges\n",
       "0   19  female  27.900         0    yes  middle  16884.92400\n",
       "1   18    male  33.770         1     no   south   1725.55230\n",
       "2   28    male  33.000         3     no   south   4449.46200\n",
       "3   33    male  22.705         0     no   north  21984.47061\n",
       "4   32    male  28.880         0     no   north   3866.85520"
      ]
     },
     "execution_count": 2,
     "metadata": {},
     "output_type": "execute_result"
    }
   ],
   "source": [
    "insurance_data.head()"
   ]
  },
  {
   "cell_type": "markdown",
   "metadata": {},
   "source": [
    "To show the statistic description of Insurance data set"
   ]
  },
  {
   "cell_type": "code",
   "execution_count": 3,
   "metadata": {},
   "outputs": [
    {
     "data": {
      "text/html": [
       "<div>\n",
       "<style scoped>\n",
       "    .dataframe tbody tr th:only-of-type {\n",
       "        vertical-align: middle;\n",
       "    }\n",
       "\n",
       "    .dataframe tbody tr th {\n",
       "        vertical-align: top;\n",
       "    }\n",
       "\n",
       "    .dataframe thead th {\n",
       "        text-align: right;\n",
       "    }\n",
       "</style>\n",
       "<table border=\"1\" class=\"dataframe\">\n",
       "  <thead>\n",
       "    <tr style=\"text-align: right;\">\n",
       "      <th></th>\n",
       "      <th>age</th>\n",
       "      <th>bmi</th>\n",
       "      <th>children</th>\n",
       "      <th>charges</th>\n",
       "    </tr>\n",
       "  </thead>\n",
       "  <tbody>\n",
       "    <tr>\n",
       "      <th>count</th>\n",
       "      <td>1338.000000</td>\n",
       "      <td>1338.000000</td>\n",
       "      <td>1338.000000</td>\n",
       "      <td>1338.000000</td>\n",
       "    </tr>\n",
       "    <tr>\n",
       "      <th>mean</th>\n",
       "      <td>39.207025</td>\n",
       "      <td>30.663397</td>\n",
       "      <td>1.094918</td>\n",
       "      <td>13270.422265</td>\n",
       "    </tr>\n",
       "    <tr>\n",
       "      <th>std</th>\n",
       "      <td>14.049960</td>\n",
       "      <td>6.098187</td>\n",
       "      <td>1.205493</td>\n",
       "      <td>12110.011237</td>\n",
       "    </tr>\n",
       "    <tr>\n",
       "      <th>min</th>\n",
       "      <td>18.000000</td>\n",
       "      <td>15.960000</td>\n",
       "      <td>0.000000</td>\n",
       "      <td>1121.873900</td>\n",
       "    </tr>\n",
       "    <tr>\n",
       "      <th>25%</th>\n",
       "      <td>27.000000</td>\n",
       "      <td>26.296250</td>\n",
       "      <td>0.000000</td>\n",
       "      <td>4740.287150</td>\n",
       "    </tr>\n",
       "    <tr>\n",
       "      <th>50%</th>\n",
       "      <td>39.000000</td>\n",
       "      <td>30.400000</td>\n",
       "      <td>1.000000</td>\n",
       "      <td>9382.033000</td>\n",
       "    </tr>\n",
       "    <tr>\n",
       "      <th>75%</th>\n",
       "      <td>51.000000</td>\n",
       "      <td>34.693750</td>\n",
       "      <td>2.000000</td>\n",
       "      <td>16639.912515</td>\n",
       "    </tr>\n",
       "    <tr>\n",
       "      <th>max</th>\n",
       "      <td>64.000000</td>\n",
       "      <td>53.130000</td>\n",
       "      <td>5.000000</td>\n",
       "      <td>63770.428010</td>\n",
       "    </tr>\n",
       "  </tbody>\n",
       "</table>\n",
       "</div>"
      ],
      "text/plain": [
       "               age          bmi     children       charges\n",
       "count  1338.000000  1338.000000  1338.000000   1338.000000\n",
       "mean     39.207025    30.663397     1.094918  13270.422265\n",
       "std      14.049960     6.098187     1.205493  12110.011237\n",
       "min      18.000000    15.960000     0.000000   1121.873900\n",
       "25%      27.000000    26.296250     0.000000   4740.287150\n",
       "50%      39.000000    30.400000     1.000000   9382.033000\n",
       "75%      51.000000    34.693750     2.000000  16639.912515\n",
       "max      64.000000    53.130000     5.000000  63770.428010"
      ]
     },
     "execution_count": 3,
     "metadata": {},
     "output_type": "execute_result"
    }
   ],
   "source": [
    "insurance_data.describe()"
   ]
  },
  {
   "cell_type": "markdown",
   "metadata": {},
   "source": [
    "## Answer for Q1 "
   ]
  },
  {
   "cell_type": "markdown",
   "metadata": {},
   "source": [
    "The mean value of charges in insuarance data set"
   ]
  },
  {
   "cell_type": "code",
   "execution_count": 4,
   "metadata": {},
   "outputs": [
    {
     "name": "stdout",
     "output_type": "stream",
     "text": [
      "Mean of the charge is 13270.422265141257\n"
     ]
    }
   ],
   "source": [
    "mean = insurance_data.charges.mean()\n",
    "print(\"Mean of the charge is\", mean);"
   ]
  },
  {
   "cell_type": "markdown",
   "metadata": {},
   "source": [
    "# #Answer for Q1 "
   ]
  },
  {
   "cell_type": "markdown",
   "metadata": {},
   "source": [
    "The variance value of charges in insuarance data set"
   ]
  },
  {
   "cell_type": "code",
   "execution_count": 5,
   "metadata": {},
   "outputs": [
    {
     "name": "stdout",
     "output_type": "stream",
     "text": [
      "Variance of the charge is  146652372.1528548\n"
     ]
    }
   ],
   "source": [
    "variance = (insurance_data.charges.std())**2\n",
    "print(\"Variance of the charge is \",variance);"
   ]
  },
  {
   "cell_type": "markdown",
   "metadata": {},
   "source": [
    "To encode string value for sex smoker and region features"
   ]
  },
  {
   "cell_type": "code",
   "execution_count": 21,
   "metadata": {},
   "outputs": [],
   "source": [
    "from sklearn.preprocessing import LabelEncoder\n",
    "df = insurance_data.copy()\n",
    "\n",
    "le_encoders = {}\n",
    "for column in df.columns:\n",
    "  if df[column].dtype == type(object):\n",
    "    le = LabelEncoder()\n",
    "    le_encoders[column] = le\n",
    "    df[column] = le.fit_transform(df[column])"
   ]
  },
  {
   "cell_type": "code",
   "execution_count": 22,
   "metadata": {},
   "outputs": [
    {
     "data": {
      "text/html": [
       "<div>\n",
       "<style scoped>\n",
       "    .dataframe tbody tr th:only-of-type {\n",
       "        vertical-align: middle;\n",
       "    }\n",
       "\n",
       "    .dataframe tbody tr th {\n",
       "        vertical-align: top;\n",
       "    }\n",
       "\n",
       "    .dataframe thead th {\n",
       "        text-align: right;\n",
       "    }\n",
       "</style>\n",
       "<table border=\"1\" class=\"dataframe\">\n",
       "  <thead>\n",
       "    <tr style=\"text-align: right;\">\n",
       "      <th></th>\n",
       "      <th>age</th>\n",
       "      <th>sex</th>\n",
       "      <th>bmi</th>\n",
       "      <th>children</th>\n",
       "      <th>smoker</th>\n",
       "      <th>region</th>\n",
       "      <th>charges</th>\n",
       "    </tr>\n",
       "  </thead>\n",
       "  <tbody>\n",
       "    <tr>\n",
       "      <th>0</th>\n",
       "      <td>19</td>\n",
       "      <td>0</td>\n",
       "      <td>27.900</td>\n",
       "      <td>0</td>\n",
       "      <td>1</td>\n",
       "      <td>0</td>\n",
       "      <td>16884.92400</td>\n",
       "    </tr>\n",
       "    <tr>\n",
       "      <th>1</th>\n",
       "      <td>18</td>\n",
       "      <td>1</td>\n",
       "      <td>33.770</td>\n",
       "      <td>1</td>\n",
       "      <td>0</td>\n",
       "      <td>3</td>\n",
       "      <td>1725.55230</td>\n",
       "    </tr>\n",
       "    <tr>\n",
       "      <th>2</th>\n",
       "      <td>28</td>\n",
       "      <td>1</td>\n",
       "      <td>33.000</td>\n",
       "      <td>3</td>\n",
       "      <td>0</td>\n",
       "      <td>3</td>\n",
       "      <td>4449.46200</td>\n",
       "    </tr>\n",
       "    <tr>\n",
       "      <th>3</th>\n",
       "      <td>33</td>\n",
       "      <td>1</td>\n",
       "      <td>22.705</td>\n",
       "      <td>0</td>\n",
       "      <td>0</td>\n",
       "      <td>1</td>\n",
       "      <td>21984.47061</td>\n",
       "    </tr>\n",
       "    <tr>\n",
       "      <th>4</th>\n",
       "      <td>32</td>\n",
       "      <td>1</td>\n",
       "      <td>28.880</td>\n",
       "      <td>0</td>\n",
       "      <td>0</td>\n",
       "      <td>1</td>\n",
       "      <td>3866.85520</td>\n",
       "    </tr>\n",
       "  </tbody>\n",
       "</table>\n",
       "</div>"
      ],
      "text/plain": [
       "   age  sex     bmi  children  smoker  region      charges\n",
       "0   19    0  27.900         0       1       0  16884.92400\n",
       "1   18    1  33.770         1       0       3   1725.55230\n",
       "2   28    1  33.000         3       0       3   4449.46200\n",
       "3   33    1  22.705         0       0       1  21984.47061\n",
       "4   32    1  28.880         0       0       1   3866.85520"
      ]
     },
     "execution_count": 22,
     "metadata": {},
     "output_type": "execute_result"
    }
   ],
   "source": [
    "df.head()"
   ]
  },
  {
   "cell_type": "markdown",
   "metadata": {},
   "source": [
    "# # Answer for Q1 "
   ]
  },
  {
   "cell_type": "markdown",
   "metadata": {},
   "source": [
    "The graph illustrate that the charges in insurance data set is left screw, not normal distrubution"
   ]
  },
  {
   "cell_type": "code",
   "execution_count": 8,
   "metadata": {},
   "outputs": [
    {
     "name": "stderr",
     "output_type": "stream",
     "text": [
      "C:\\Anaconda\\lib\\site-packages\\scipy\\stats\\stats.py:1713: FutureWarning: Using a non-tuple sequence for multidimensional indexing is deprecated; use `arr[tuple(seq)]` instead of `arr[seq]`. In the future this will be interpreted as an array index, `arr[np.array(seq)]`, which will result either in an error or a different result.\n",
      "  return np.add.reduce(sorted[indexer] * weights, axis=axis) / sumval\n"
     ]
    },
    {
     "data": {
      "text/plain": [
       "Text(0.5, 1.0, 'The distribution of charges')"
      ]
     },
     "execution_count": 8,
     "metadata": {},
     "output_type": "execute_result"
    }
   ],
   "source": [
    "import seaborn as sns\n",
    "import numpy as np \n",
    "from matplotlib import pyplot as plt\n",
    "df = insurance_data.copy()\n",
    "fi= plt.figure(figsize=(14,5))\n",
    "\n",
    "axis=fi.add_subplot(121)\n",
    "sns.distplot(df.charges)\n",
    "axis.set_title('The distribution of charges')"
   ]
  },
  {
   "cell_type": "markdown",
   "metadata": {},
   "source": [
    "# # Answer for Q2 "
   ]
  },
  {
   "cell_type": "markdown",
   "metadata": {},
   "source": [
    " the heatmap illustrate the correlation between two variable. Following the map visualisation, the smoker feature has the most influence on charges due to the red level in box showing the positive correlation along with having the value closet to 1 between two variables."
   ]
  },
  {
   "cell_type": "code",
   "execution_count": 9,
   "metadata": {},
   "outputs": [
    {
     "data": {
      "text/plain": [
       "<matplotlib.axes._subplots.AxesSubplot at 0x1f68dc935f8>"
      ]
     },
     "execution_count": 9,
     "metadata": {},
     "output_type": "execute_result"
    },
    {
     "data": {
      "image/png": "[encoded data removed]",
      "text/plain": [
       "<Figure size 720x576 with 2 Axes>"
      ]
     },
     "metadata": {
      "needs_background": "light"
     },
     "output_type": "display_data"
    }
   ],
   "source": [
    "import seaborn as sns\n",
    "import numpy as np\n",
    "\n",
    "fi, axis = plt.subplots(figsize=(10, 8))\n",
    "corr = df.corr()\n",
    "sns.heatmap(corr,annot=True, mask=np.zeros_like(corr, dtype=np.bool), cmap=sns.diverging_palette(200,10,as_cmap=True), square=True, ax=axis)"
   ]
  },
  {
   "cell_type": "markdown",
   "metadata": {},
   "source": [
    "# #Answer for Q3\n",
    "On the source code below, there are three models  which are used to classify and predict data including Linear Regression, Lasso, and BayesianRidge. After fit model and predict each classified data, the error mean result indicates that Train usually has the  value fewer than Test and Valid due to each prediction in train  test and valid compared to train in which the data has been input to the model. "
   ]
  },
  {
   "cell_type": "markdown",
   "metadata": {},
   "source": [
    "Moreover, the error  mean can shows the precision of each model. In case that the mean value has lesser  value, the model is more precise. On the other hand, if the mean value has more value, the model is more inprecisive."
   ]
  },
  {
   "cell_type": "markdown",
   "metadata": {},
   "source": [
    "\n",
    "\n",
    "# Linear Regression"
   ]
  },
  {
   "cell_type": "code",
   "execution_count": 30,
   "metadata": {},
   "outputs": [
    {
     "name": "stdout",
     "output_type": "stream",
     "text": [
      "Training shape:  (1070, 6) (1070,)\n",
      "Valid shape:  (134, 6) (134,)\n",
      "Test shape:  (134, 6) (134,)\n"
     ]
    }
   ],
   "source": [
    "from sklearn.model_selection import train_test_split\n",
    "\n",
    "X= df.drop('charges', axis=1)\n",
    "\n",
    "Y = df['charges']\n",
    "\n",
    "X_train, X_rest, Y_train, Y_rest = train_test_split( X, Y, test_size=0.20)\n",
    "X_valid, X_test, Y_valid, Y_test = train_test_split(  X_rest, Y_rest, test_size=0.50)\n",
    "\n",
    "print('Training shape: ', X_train.shape, Y_train.shape)\n",
    "print('Valid shape: ', X_valid.shape, Y_valid.shape)\n",
    "print('Test shape: ', X_test.shape, Y_test.shape)"
   ]
  },
  {
   "cell_type": "code",
   "execution_count": 39,
   "metadata": {},
   "outputs": [
    {
     "name": "stdout",
     "output_type": "stream",
     "text": [
      "[ 8099.96559861   328.68577121  5150.53763764 ...  9606.27717199\n",
      " 11202.75622905 24336.35511798]\n",
      "[10670.49217841  3797.35094141   878.03155012  9178.20631014\n",
      "  9999.93721233  4347.31266958 16006.66251929 13548.36973971\n",
      " 10061.00374318  5786.66190775  3613.17575929  4643.47202387\n",
      " 11689.69489096  2321.44285846 36864.81422752  5432.74290443\n",
      "  2829.78767391 13934.91754539 15688.10000658 34399.70362788\n",
      " 13798.17139516 10760.21438464 11883.15685089  5826.53201253\n",
      "  7603.88034424  9002.61351902 13607.98482349 32378.33092753\n",
      "  9619.22089933  4340.15794588  6064.82201886  3000.77794042\n",
      " 10206.19499724  5624.23522988  2285.99449692  9864.88218936\n",
      "  7369.1820585   9915.00413943 33674.60210305 11662.3556141\n",
      " 26413.59134208  2141.72806365 13560.1497247   8984.50215534\n",
      "  3355.56809756   203.30488046  9175.53370705 29268.27335978\n",
      "  4160.31263609 13750.80037617 10883.22924437 36171.14497678\n",
      "  6907.85570722  9892.47433857 11192.45565771 14946.11655434\n",
      " 33945.23229351  9656.25065644  9526.23814011 27732.18923588\n",
      " 12982.83955493  3841.4537554  12879.33916341 26987.40169122\n",
      "  9927.35027924 29660.33798875 12193.2113953  27899.26388736\n",
      "  7934.09528692 11662.23860927  4782.10853431 35688.58890791\n",
      " 33524.35243496 13680.22320162  3936.2176493  11319.49917022\n",
      "  5759.88488041 13752.25125676  7053.47192364  7165.86609704\n",
      " 29951.30397356 10430.07395776  9626.49794763  7081.73850839\n",
      " 10869.89249208 11536.36554578 37056.04693747 26485.06288002\n",
      "  1699.74947588  2125.77237525 28329.6921492   6387.48042699\n",
      " 12735.50547179 10468.14607421 39246.90822221  4541.57674219\n",
      "   -64.00541899 11015.64404229 14004.35567087 11054.69080206\n",
      " 30755.01535023 14418.31430923 11788.58702556  4915.84121073\n",
      "  4367.8679844  13369.81427633  8301.27271504 28980.06205598\n",
      "  4590.51706479  6714.1941018   8731.23588996 14250.41001861\n",
      " 30894.39394674  7227.81061422 10309.98211912 36828.49704387\n",
      "  3541.76799933 10081.59773482 28838.35421421  7735.23731928\n",
      " 38269.71444074 32917.51430676 11799.43249129  6004.63347436\n",
      " 14578.11187964  7911.76850313 31614.09659792 37641.53822112\n",
      "  2046.77428451  5701.81251538  1233.19111105 11409.60961535\n",
      " 29717.56052217 31652.69228708]\n",
      "[ 4502.43515153 36963.32193491  5854.44660896  6073.32898005\n",
      "  4482.28501913  9133.82309733  9956.38937471 10740.69994918\n",
      " 10307.1485146   7069.46726322  1280.56213004 26182.86218347\n",
      "  5233.33383763  6963.50018388  2072.7038447  33371.3252219\n",
      " 13062.56285    13627.21838726 23883.73307443 11388.3228592\n",
      " 14357.12308931 14144.73212397 10612.67838902  5355.96143281\n",
      " 31964.42346956  5547.82993423 12813.25909962  9330.87762958\n",
      "  5413.46197248 15407.28669024 10107.96816153  2711.00889496\n",
      " 11065.48798611 16650.26203596  6763.19388454  6092.71390763\n",
      " 29316.48224105  1631.89898299  4629.37381668  7301.32671404\n",
      " 34469.51644935  1104.82581474 12908.31539442  8426.46895043\n",
      " 38900.8318883  25429.81324406 11011.18075679 32909.66628482\n",
      " 36593.80061696  6289.16757904  2538.44793938 10412.85541569\n",
      " 11119.09706563 38479.85776534  9395.86604523  2449.72692858\n",
      "  1967.98793495  7712.70030706  4767.17583641 30112.82369139\n",
      " 35739.89340268  8334.96176507 14771.14358502 10822.42626335\n",
      "   388.40293    10316.32798699  1342.47764077 37691.39428965\n",
      "  8194.70285052  8041.05628853 12104.39369476 30299.66999661\n",
      " 24761.6683711   -865.38988211 31886.81147432  1373.74406188\n",
      " 11056.1126762   3703.39501886  9668.83949726  2161.43105976\n",
      " 12845.31888027  6464.92562392  4087.57679353 28345.61253236\n",
      "  7690.58970492 10232.36473859 32115.53568947 10118.59949259\n",
      " 13373.33100774  9396.8416348   4121.07681004 33369.29467632\n",
      "  7038.05101913 31721.78333758  4110.5373499  10736.33382628\n",
      "  6189.08326212  8833.21097964 35250.14825112  2390.4608404\n",
      " 15253.73738446  2482.80488093  8675.82202236 13345.16114547\n",
      " 14083.81642322  9346.86960131  2582.74510719 11106.59861574\n",
      "  9212.35654179  5139.21502206 35592.39942271  6740.63507722\n",
      "  4833.40001989 33673.32772018  4634.3447675   1673.86876385\n",
      "  4986.24194935 10958.33111794  3191.88202697 28697.21964503\n",
      "  3995.75292509 28136.90749025  9730.87346005 26609.06158056\n",
      " 31246.53045802 14191.45236134 10947.96185673  7055.16837067\n",
      " 13075.9716315  34242.59500857  5195.96179159 25609.27513376\n",
      "  8961.11802206  2544.60530745]\n"
     ]
    }
   ],
   "source": [
    "from sklearn.linear_model import LinearRegression\n",
    "linear = LinearRegression()\n",
    "linear.fit(X_train, Y_train)\n",
    "predictions_train= linear.predict(X_train)\n",
    "predictions_test = linear.predict(X_test)\n",
    "predictions_valid = linear.predict(X_valid)\n",
    "print(predictions_train)\n",
    "print(predictions_test)\n",
    "print(predictions_valid)"
   ]
  },
  {
   "cell_type": "markdown",
   "metadata": {},
   "source": [
    "Error Mean  value of Linear Regression"
   ]
  },
  {
   "cell_type": "code",
   "execution_count": 40,
   "metadata": {},
   "outputs": [
    {
     "name": "stdout",
     "output_type": "stream",
     "text": [
      "Mean squared error of train split: 36220659.4766956\n",
      "Mean squared error of test split: 38421786.803385824\n",
      "Mean squared error of valid split: 38888779.361628145\n"
     ]
    }
   ],
   "source": [
    "from sklearn.metrics import mean_squared_error, r2_score\n",
    "print(\"Mean squared error of train split:\" , mean_squared_error( predictions_train,Y_train))\n",
    "print(\"Mean squared error of test split:\" , mean_squared_error( predictions_test,Y_test))\n",
    "print(\"Mean squared error of valid split:\" , mean_squared_error( predictions_valid,Y_valid))"
   ]
  },
  {
   "cell_type": "markdown",
   "metadata": {},
   "source": [
    "# Lasso"
   ]
  },
  {
   "cell_type": "code",
   "execution_count": 33,
   "metadata": {},
   "outputs": [
    {
     "name": "stdout",
     "output_type": "stream",
     "text": [
      "[ 8099.96559861   328.68577121  5150.53763764 ...  9606.27717199\n",
      " 11202.75622905 24336.35511798]\n",
      "[10670.49217841  3797.35094141   878.03155012  9178.20631014\n",
      "  9999.93721233  4347.31266958 16006.66251929 13548.36973971\n",
      " 10061.00374318  5786.66190775  3613.17575929  4643.47202387\n",
      " 11689.69489096  2321.44285846 36864.81422752  5432.74290443\n",
      "  2829.78767391 13934.91754539 15688.10000658 34399.70362788\n",
      " 13798.17139516 10760.21438464 11883.15685089  5826.53201253\n",
      "  7603.88034424  9002.61351902 13607.98482349 32378.33092753\n",
      "  9619.22089933  4340.15794588  6064.82201886  3000.77794042\n",
      " 10206.19499724  5624.23522988  2285.99449692  9864.88218936\n",
      "  7369.1820585   9915.00413943 33674.60210305 11662.3556141\n",
      " 26413.59134208  2141.72806365 13560.1497247   8984.50215534\n",
      "  3355.56809756   203.30488046  9175.53370705 29268.27335978\n",
      "  4160.31263609 13750.80037617 10883.22924437 36171.14497678\n",
      "  6907.85570722  9892.47433857 11192.45565771 14946.11655434\n",
      " 33945.23229351  9656.25065644  9526.23814011 27732.18923588\n",
      " 12982.83955493  3841.4537554  12879.33916341 26987.40169122\n",
      "  9927.35027924 29660.33798875 12193.2113953  27899.26388736\n",
      "  7934.09528692 11662.23860927  4782.10853431 35688.58890791\n",
      " 33524.35243496 13680.22320162  3936.2176493  11319.49917022\n",
      "  5759.88488041 13752.25125676  7053.47192364  7165.86609704\n",
      " 29951.30397356 10430.07395776  9626.49794763  7081.73850839\n",
      " 10869.89249208 11536.36554578 37056.04693747 26485.06288002\n",
      "  1699.74947588  2125.77237525 28329.6921492   6387.48042699\n",
      " 12735.50547179 10468.14607421 39246.90822221  4541.57674219\n",
      "   -64.00541899 11015.64404229 14004.35567087 11054.69080206\n",
      " 30755.01535023 14418.31430923 11788.58702556  4915.84121073\n",
      "  4367.8679844  13369.81427633  8301.27271504 28980.06205598\n",
      "  4590.51706479  6714.1941018   8731.23588996 14250.41001861\n",
      " 30894.39394674  7227.81061422 10309.98211912 36828.49704387\n",
      "  3541.76799933 10081.59773482 28838.35421421  7735.23731928\n",
      " 38269.71444074 32917.51430676 11799.43249129  6004.63347436\n",
      " 14578.11187964  7911.76850313 31614.09659792 37641.53822112\n",
      "  2046.77428451  5701.81251538  1233.19111105 11409.60961535\n",
      " 29717.56052217 31652.69228708]\n",
      "[ 4502.43515153 36963.32193491  5854.44660896  6073.32898005\n",
      "  4482.28501913  9133.82309733  9956.38937471 10740.69994918\n",
      " 10307.1485146   7069.46726322  1280.56213004 26182.86218347\n",
      "  5233.33383763  6963.50018388  2072.7038447  33371.3252219\n",
      " 13062.56285    13627.21838726 23883.73307443 11388.3228592\n",
      " 14357.12308931 14144.73212397 10612.67838902  5355.96143281\n",
      " 31964.42346956  5547.82993423 12813.25909962  9330.87762958\n",
      "  5413.46197248 15407.28669024 10107.96816153  2711.00889496\n",
      " 11065.48798611 16650.26203596  6763.19388454  6092.71390763\n",
      " 29316.48224105  1631.89898299  4629.37381668  7301.32671404\n",
      " 34469.51644935  1104.82581474 12908.31539442  8426.46895043\n",
      " 38900.8318883  25429.81324406 11011.18075679 32909.66628482\n",
      " 36593.80061696  6289.16757904  2538.44793938 10412.85541569\n",
      " 11119.09706563 38479.85776534  9395.86604523  2449.72692858\n",
      "  1967.98793495  7712.70030706  4767.17583641 30112.82369139\n",
      " 35739.89340268  8334.96176507 14771.14358502 10822.42626335\n",
      "   388.40293    10316.32798699  1342.47764077 37691.39428965\n",
      "  8194.70285052  8041.05628853 12104.39369476 30299.66999661\n",
      " 24761.6683711   -865.38988211 31886.81147432  1373.74406188\n",
      " 11056.1126762   3703.39501886  9668.83949726  2161.43105976\n",
      " 12845.31888027  6464.92562392  4087.57679353 28345.61253236\n",
      "  7690.58970492 10232.36473859 32115.53568947 10118.59949259\n",
      " 13373.33100774  9396.8416348   4121.07681004 33369.29467632\n",
      "  7038.05101913 31721.78333758  4110.5373499  10736.33382628\n",
      "  6189.08326212  8833.21097964 35250.14825112  2390.4608404\n",
      " 15253.73738446  2482.80488093  8675.82202236 13345.16114547\n",
      " 14083.81642322  9346.86960131  2582.74510719 11106.59861574\n",
      "  9212.35654179  5139.21502206 35592.39942271  6740.63507722\n",
      "  4833.40001989 33673.32772018  4634.3447675   1673.86876385\n",
      "  4986.24194935 10958.33111794  3191.88202697 28697.21964503\n",
      "  3995.75292509 28136.90749025  9730.87346005 26609.06158056\n",
      " 31246.53045802 14191.45236134 10947.96185673  7055.16837067\n",
      " 13075.9716315  34242.59500857  5195.96179159 25609.27513376\n",
      "  8961.11802206  2544.60530745]\n"
     ]
    }
   ],
   "source": [
    "from sklearn.linear_model import Lasso\n",
    "Lasso = Lasso()\n",
    "Lasso.fit(X_train,Y_train)\n",
    "Lasso_predictions_train= Lasso.predict(X_train)\n",
    "Lasso_predictions_test = Lasso.predict(X_test)\n",
    "Lasso_predictions_valid = Lasso.predict(X_valid)\n",
    "print(predictions_train)\n",
    "print(predictions_test)\n",
    "print(predictions_valid)"
   ]
  },
  {
   "cell_type": "markdown",
   "metadata": {},
   "source": [
    "Error Mean value of Linear Regression"
   ]
  },
  {
   "cell_type": "code",
   "execution_count": 34,
   "metadata": {},
   "outputs": [
    {
     "name": "stdout",
     "output_type": "stream",
     "text": [
      "Mean squared error of traint split: 36220672.364826195\n",
      "Mean squared error of test split: 38421972.73432517\n",
      "Mean squared error of valid split: 38887693.636399984\n"
     ]
    }
   ],
   "source": [
    "print(\"Mean squared error of traint split:\" , mean_squared_error( Lasso_predictions_train,Y_train))\n",
    "print(\"Mean squared error of test split:\" , mean_squared_error( Lasso_predictions_test,Y_test))\n",
    "print(\"Mean squared error of valid split:\" , mean_squared_error( Lasso_predictions_valid,Y_valid))"
   ]
  },
  {
   "cell_type": "markdown",
   "metadata": {},
   "source": [
    "# BayesianRidge"
   ]
  },
  {
   "cell_type": "code",
   "execution_count": 41,
   "metadata": {},
   "outputs": [
    {
     "name": "stdout",
     "output_type": "stream",
     "text": [
      "[ 8106.27027283   341.61928098  5162.14635099 ...  9615.38352043\n",
      " 11216.50545985 24290.99134979]\n",
      "[10682.4071429   3807.10741818   890.45827505  9185.51274475\n",
      " 10006.45835072  4359.96272102 16016.5160188  13558.7954837\n",
      " 10067.67394912  5795.44676745  3619.7636897   4655.57426188\n",
      " 11702.42172848  2331.19601254 36824.36133906  5444.76950107\n",
      "  2838.37596747 13949.48431835 15698.12412141 34356.87388011\n",
      " 13805.85426298 10772.99380676 11897.07497034  5838.81371146\n",
      "  7616.62132624  9012.2914729  13616.81107601 32330.60365564\n",
      "  9631.24589044  4347.81001565  6074.80013677  3011.93302891\n",
      " 10217.70507763  5636.07765946  2298.79393696  9876.01584471\n",
      "  7383.74371845  9928.23978222 33627.91138295 11676.51120235\n",
      " 26372.21130544  2152.57353315 13567.90724246  9001.07838441\n",
      "  3370.67935949   216.75750748  9183.90179641 29223.86279802\n",
      "  4171.314449   13758.30696059 10895.0240845  36128.6273902\n",
      "  6919.25144953  9898.93361007 11201.12396709 14954.14452803\n",
      " 33905.00120853  9666.2455725   9531.59278223 27687.18429538\n",
      " 12988.88010561  3852.2917812  12890.80029988 26948.22884665\n",
      "  9936.97346091 29615.87711461 12207.03227338 27859.85284356\n",
      "  7948.12041517 11669.65858204  4790.99438795 35640.81161789\n",
      " 33481.62900101 13690.85779494  3948.25300865 11327.50448575\n",
      "  5771.78033675 13763.03147982  7063.80528995  7174.62360254\n",
      " 29904.89598354 10436.58062839  9636.50219493  7095.98317339\n",
      " 10884.6081927  11547.81586516 37008.79647723 26444.43626568\n",
      "  1712.82834809  2136.2883535  28284.73874113  6396.36550824\n",
      " 12750.47327684 10474.68858947 39197.98248248  4549.26121176\n",
      "   -49.57635943 11026.87171802 14013.87190074 11060.18728638\n",
      " 30708.71465477 14423.68865206 11798.541953    4927.23682081\n",
      "  4380.05665918 13384.10335078  8315.81343773 28931.82172112\n",
      "  4603.30684555  6729.95129436  8737.82043154 14259.22592967\n",
      " 30849.23446495  7237.12405683 10316.74245846 36781.2701643\n",
      "  3552.03102383 10091.5548208  28797.9242694   7744.32851519\n",
      " 38226.33994517 32874.25879832 11811.13674517  6014.86939425\n",
      " 14585.07034288  7918.39404682 31569.56785378 37596.60999266\n",
      "  2060.68470244  5712.5754174   1243.98702658 11418.83862661\n",
      " 29675.43465842 31606.13297676]\n",
      "[ 4513.96041677 36918.04831163  5864.60746541  6081.71235852\n",
      "  4496.58038118  9146.17221715  9967.25540571 10755.0738876\n",
      " 10318.24097748  7079.36922286  1291.53432896 26140.55275498\n",
      "  5245.37151384  6975.11372449  2088.11427549 33322.99981021\n",
      " 13073.63008334 13641.16294317 23836.70880375 11394.84057225\n",
      " 14365.95893665 14152.35408617 10622.52231831  5362.14613433\n",
      " 31923.73748336  5558.08500993 12825.84761824  9340.37998154\n",
      "  5425.44683109 15415.5523091  10117.58615705  2723.09599923\n",
      " 11075.35250258 16654.81594591  6775.06700604  6103.28156302\n",
      " 29274.00431561  1645.79616171  4641.64869591  7310.84438157\n",
      " 34424.95791969  1115.83388407 12919.04872345  8437.9830249\n",
      " 38859.73850651 25389.39909346 11022.29501702 32869.54397624\n",
      " 36546.36063413  6303.51940417  2554.14996735 10423.19600634\n",
      " 11129.98072093 38432.85655923  9403.27243559  2460.42801637\n",
      "  1981.87527733  7724.77273377  4779.40749726 30070.92760314\n",
      " 35699.72066983  8346.7434639  14776.2868366  10838.04184609\n",
      "   397.90026205 10324.38413399  1355.9515979  37647.22060514\n",
      "  8207.5588328   8052.977949   12113.35701816 30258.94801994\n",
      " 24718.38081508  -857.39735415 31846.84368454  1386.42246306\n",
      " 11066.82862024  3713.18096272  9679.8683611   2170.56346315\n",
      " 12853.76679483  6474.99231944  4101.03830161 28302.16987775\n",
      "  7704.30892259 10241.53657511 32070.25507092 10129.9936901\n",
      " 13383.04881914  9406.96936887  4132.48642953 33327.63290411\n",
      "  7045.64832698 31676.0166483   4120.19560307 10749.86237826\n",
      "  6201.04086992  8848.13342846 35209.38747512  2400.89748067\n",
      " 15259.40021642  2493.20888427  8690.74799142 13356.85479279\n",
      " 14095.91089108  9357.05906154  2594.73275861 11115.5403789\n",
      "  9221.94385017  5150.55589527 35551.93845253  6747.67764854\n",
      "  4845.2973541  33627.14011478  4644.22102112  1681.30383788\n",
      "  4996.74580355 10968.13172764  3202.4937103  28654.83474744\n",
      "  4002.26865415 28089.17051639  9746.0419575  26567.96601144\n",
      " 31201.7154668  14196.44292416 10959.02329456  7063.24381813\n",
      " 13086.34080426 34200.61156104  5209.67396572 25564.98378076\n",
      "  8976.28901007  2554.75467864]\n"
     ]
    }
   ],
   "source": [
    "from sklearn.linear_model import BayesianRidge\n",
    "BayesianRidge= BayesianRidge()\n",
    "BayesianRidge.fit(X_train,Y_train)\n",
    "BayesianRidge_predictions_train= BayesianRidge.predict(X_train)\n",
    "BayesianRidge_predictions_test = BayesianRidge.predict(X_test)\n",
    "BayesianRidge_predictions_valid = BayesianRidge.predict(X_valid)\n",
    "print(BayesianRidge_predictions_train)\n",
    "print(BayesianRidge_predictions_test)\n",
    "print(BayesianRidge_predictions_valid)"
   ]
  },
  {
   "cell_type": "markdown",
   "metadata": {},
   "source": [
    "Error Mean value of BaysianRidge"
   ]
  },
  {
   "cell_type": "code",
   "execution_count": 42,
   "metadata": {},
   "outputs": [
    {
     "name": "stdout",
     "output_type": "stream",
     "text": [
      "Mean squared error of traint split: 36221130.20604428\n",
      "Mean squared error of test split: 38412816.93758844\n",
      "Mean squared error of valid split: 38906497.662181\n"
     ]
    }
   ],
   "source": [
    "print(\"Mean squared error of traint split:\" , mean_squared_error( BayesianRidge_predictions_train,Y_train))\n",
    "print(\"Mean squared error of test split:\" , mean_squared_error( BayesianRidge_predictions_test,Y_test))\n",
    "print(\"Mean squared error of valid split:\" , mean_squared_error( BayesianRidge_predictions_valid,Y_valid))"
   ]
  },
  {
   "cell_type": "code",
   "execution_count": null,
   "metadata": {},
   "outputs": [],
   "source": []
  }
 ],
 "metadata": {
  "kernelspec": {
   "display_name": "Python 3",
   "language": "python",
   "name": "python3"
  },
  "language_info": {
   "codemirror_mode": {
    "name": "ipython",
    "version": 3
   },
   "file_extension": ".py",
   "mimetype": "text/x-python",
   "name": "python",
   "nbconvert_exporter": "python",
   "pygments_lexer": "ipython3",
   "version": "3.7.1"
  }
 },
 "nbformat": 4,
 "nbformat_minor": 2
}
